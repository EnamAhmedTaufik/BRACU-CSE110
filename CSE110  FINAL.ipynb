{
 "cells": [
  {
   "cell_type": "markdown",
   "metadata": {
    "colab_type": "text",
    "id": "0ZcT5c9CjT8P"
   },
   "source": [
    "# SUMMER 2020\n",
    "\n",
    "# CSE110 Final Exam\n",
    "**<font color='red'>[MUST MAINTAIN VARIABLE NAMING CONVENTIONS FOR ALL THE TASKS]</font>**\n",
    "\n",
    "**<font color='red'>[Writing comments(explanatory sentences) in any of the code is completely optional]</font>**"
   ]
  },
  {
   "cell_type": "markdown",
   "metadata": {
    "colab_type": "text",
    "id": "hQCnOmw6iWER"
   },
   "source": [
    "# Task 01\n",
    "\n",
    "Write a python program that takes a string as an input from the user and passes that input as an argument to a function which prints out the summation of all the ascii values of each character present in the string.\\\n",
    "\\\n",
    "===============================================================================================\\\n",
    "\\\n",
    "**Sample Input 1 :** \n",
    "ABC\\\n",
    "**Sample function call 1:** function_name(\"ABC\")\\\n",
    "**Sample Output:** 198\\\n",
    "**Explanation:** ascii values of 'A', 'B', and 'C' are 65, 66, and 67 respectively. So, the output should be (65+66+67)=198\n",
    "\n",
    "\n",
    "===============================================================================================\n",
    "\n",
    "\n",
    "**Sample Input 2:** Boss\\\n",
    "**Sample Output 2:** 407\\\n",
    "**Sample function call 2:** function_name(\"Boss\")\\\n",
    "**Explanation:** ascii values of 'B', 'o', and 's' are 66, 111, and 115 respectively. So, the output should be (66+111+115+115)=407\n",
    "\n",
    "\n"
   ]
  },
  {
   "cell_type": "code",
   "execution_count": null,
   "metadata": {
    "colab": {},
    "colab_type": "code",
    "id": "P0vIwmbeiWEU"
   },
   "outputs": [],
   "source": [
    "#task 1\n",
    "#to do\n",
    "def Ascii():\n",
    "    sum=0\n",
    "    for char in user_input:\n",
    "        con=ord(char)\n",
    "        sum+=con\n",
    "    return sum\n",
    "user_input=input()\n",
    "print(Ascii())\n",
    "        "
   ]
  },
  {
   "cell_type": "markdown",
   "metadata": {
    "colab_type": "text",
    "id": "zUyYKkWViWEd"
   },
   "source": [
    "# Task 02\n",
    "Write a python function format_sentence() that takes a sentence and a boolean as parameters. The boolean is optional. The function will then convert the characters of the sentence according to the boolean parameter.\\\n",
    "\\\n",
    "**1)** If no boolean parameter is passed, the function will return a sentence of all lower case.\\\n",
    "**2)** If the value of the boolean argument is False, the function will return a sentence of all lower case.\\\n",
    "**3)** If the value of the boolean parameter is True, the function will return a sentence of all upper case.\\\n",
    "\\\n",
    "<font color = 'red'>**You cannot use lower() or upper() functions here.**</font>\n",
    "\\\n",
    "\\\n",
    "===============================================================================================\\\n",
    "\\\n",
    "**Sample function call 1:** print(format_sentence('I am a student of BRAC University'))\\\n",
    "**Sample output 1:** i am a student of brac university\\\n",
    "**Explanation:** There is no boolean parameter passed. Therefore, the function returns a string of all lower case\\\n",
    "\\\n",
    "===============================================================================================\\\n",
    "\\\n",
    "**Sample function call 2:** print(format_sentence('I am a student of BRAC University', False))\\\n",
    "**Sample output 2:** i am a student of brac university\\\n",
    "**Explanation:** The boolean parameter is False. Therefore, the function returns a string of all lower case\\\n",
    "\\\n",
    "===============================================================================================\\\n",
    "\\\n",
    "**Sample function call 3:** print(format_sentence('I am a student of BRAC University', True))\\\n",
    "**Sample output 3:** I AM A STUDENT OF BRAC UNIVERSITY\\\n",
    "**Explanation:** The boolean parameter is True. Therefore, the function returns a string of all upper case\n",
    "\n",
    "\n"
   ]
  },
  {
   "cell_type": "code",
   "execution_count": null,
   "metadata": {
    "colab": {},
    "colab_type": "code",
    "id": "_oEJ6XwgiWEh"
   },
   "outputs": [],
   "source": [
    "#task 2\n",
    "#to do\n",
    "user_input=input()\n",
    "def format_sentence(*args):\n",
    "    if args[1]==True:\n",
    "        capital=user_input.upper()\n",
    "        return capital\n",
    "    elif args[1]==False:\n",
    "        lower=user_input.lower()\n",
    "        return lower\n",
    "    else:\n",
    "        lower = user_input.lower()\n",
    "        return lower\n",
    "\n",
    "print(format_sentence(user_input,True))"
   ]
  },
  {
   "cell_type": "markdown",
   "metadata": {
    "colab_type": "text",
    "id": "CEhXrQIhiWEo"
   },
   "source": [
    "# Task 03\n",
    "\n",
    "Write a function named **prime_divisors** that takes a number as parameter and returns True if all the divisors of the number (except 1 and the number itself) are prime numbers or else the function returns False.\n",
    "For example, 15 has 4 divisors. 1,3,5,15. If we exclude 1 and 15, both 3 and 5 are prime numbers, so the function returns True.\n",
    "\n",
    "\n",
    "===============================================================================================\n",
    "\n",
    "\n",
    "**Sample Function call 1:** print(prime_divisors(15))\n",
    "\n",
    "**Sample Output 1:** True\n",
    "\n",
    "**Explanation:** 15 has 4 divisors. 1, 3, 5, 15. If we exclude 1 and 15, both 3 and 5 are prime number. Hence, the function will return True.\n",
    "\n",
    "\n",
    "===============================================================================================\n",
    "\n",
    "\n",
    "**Sample Function call 2:** print(prime_divisors(6))\n",
    "\n",
    "**Sample Output 2:** True\n",
    "\n",
    "**Explanation:** 5 has 4 divisors. 1, 2, 3, 6. If we exclude 1 and 6, both 2 and 3 are prime number. Hence, the function will return True.\n",
    "\n",
    "===============================================================================================\n",
    "\n",
    "\n",
    "**Sample Function call 3:** print(prime_divisors(8))\n",
    "\n",
    "**Sample Output 3:** False\n",
    "\n",
    "**Explanation:** 8 has 4 divisors. 1, 2, 4, 8.  we exclude 1 and 8, there are still 2 and 4. Among these, 4 is not a prime number. So, the function will return False.\n",
    "\n"
   ]
  },
  {
   "cell_type": "code",
   "execution_count": null,
   "metadata": {
    "colab": {},
    "colab_type": "code",
    "id": "gWQIR06LiWEp"
   },
   "outputs": [],
   "source": [
    "#task 3\n",
    "#to do\n",
    "i=int(input())\n",
    "li=[]\n",
    "def prime_divisors(num):\n",
    "    for a in range(1,i+1):\n",
    "        if i%a==0:\n",
    "            if a==1 or a==i:\n",
    "                continue\n",
    "            else:\n",
    "                li.append(a)\n",
    "                for value in range(len(li)):\n",
    "                    if li[value]<=1 :\n",
    "                        return False\n",
    "                    elif li[value]==2:\n",
    "                        continue\n",
    "                    elif li[value]%2!=0:\n",
    "                        return True\n",
    "                    else:\n",
    "                        return False\n",
    "\n",
    "print(prime_divisors(i))"
   ]
  }
 ],
 "metadata": {
  "colab": {
   "collapsed_sections": [],
   "name": "Set_5.ipynb",
   "provenance": []
  },
  "kernelspec": {
   "display_name": "Python 3",
   "language": "python",
   "name": "python3"
  },
  "language_info": {
   "codemirror_mode": {
    "name": "ipython",
    "version": 3
   },
   "file_extension": ".py",
   "mimetype": "text/x-python",
   "name": "python",
   "nbconvert_exporter": "python",
   "pygments_lexer": "ipython3",
   "version": "3.7.6"
  }
 },
 "nbformat": 4,
 "nbformat_minor": 1
}
