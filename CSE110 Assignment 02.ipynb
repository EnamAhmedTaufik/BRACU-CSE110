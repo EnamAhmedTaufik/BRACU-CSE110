{
 "cells": [
  {
   "cell_type": "markdown",
   "metadata": {},
   "source": [
    "# CSE110 Assignment 2\n",
    "\n",
    "This assignment is to guide you to solve basic programming problems using loop in Python. \n",
    "\n",
    "## Write the Python code of the following problems:"
   ]
  },
  {
   "cell_type": "markdown",
   "metadata": {},
   "source": [
    "### Task 1\n",
    "\n",
    "Write python program, which prints the following sequences of values in loops:\n",
    "\n",
    "a)\t24, 18, 12, 6, 0, -6\\\n",
    "b)\t-10, -5, 0, 5, 10, 15, 20\\\n",
    "c)\t18, 27, 36, 45, 54, 63\\\n",
    "d)\t18,-27, 36,-45,54,-63\n",
    "\n",
    "**Hints(1):** Use a while loop for solving these problems.\n",
    "\n",
    "**Hints(2):** We are already familiar with the print() function. But when we use it to print any value it automatically adds an additional newline after each print statement.\n",
    "\n",
    "For example:\\\n",
    "print(1)\\\n",
    "print(2)\n",
    "\n",
    "Output:\\\n",
    "1\\\n",
    "2\n",
    "\n",
    "=====================================================================\n",
    "\n",
    "To solve this problem, in Python3, we need to add an extra argument (end = \" \") in the print function which tells the program to skip printing the additional newline.\n",
    "\n",
    "For example:\\\n",
    "print(1, end =\" \")\\\n",
    "print(2)\n",
    "\n",
    "Output:(prints the next output right to the previous one)\\\n",
    "12\n",
    "\n",
    "=====================================================================\n",
    "\n",
    "In Task-1(a), the loop counter should be initialized at 24 and the loop should terminate when the loop counter reaches -6. The difference between the first two values is 24-18=6. So the loop counter value is getting decremented by 6 in every iteration.\n",
    "\n",
    "For your understanding task 1(a) code is done for you.\n"
   ]
  },
  {
   "cell_type": "code",
   "execution_count": 1,
   "metadata": {},
   "outputs": [
    {
     "name": "stdout",
     "output_type": "stream",
     "text": [
      "24, 18, 12, 6, 0, -6"
     ]
    }
   ],
   "source": [
    "# a) 24, 18, 12, 6, 0, -6\n",
    "\n",
    "# initialize loop counter\n",
    "counter = 24\n",
    "\n",
    "# loop structure\n",
    "while counter >= -6:\n",
    "    \n",
    "    #inside loop body\n",
    "    if counter == -6:\n",
    "        print(counter, end = \"\") \n",
    "    else:\n",
    "        print(counter, end = \", \") \n",
    "     \n",
    "    counter = counter - 6 #updating loop counter\n",
    "    #inside loop body\n",
    "    \n",
    "#outside loop body"
   ]
  },
  {
   "cell_type": "code",
   "execution_count": 1,
   "metadata": {},
   "outputs": [
    {
     "name": "stdout",
     "output_type": "stream",
     "text": [
      "-10, -5, 0, 5, 10, 15, 20"
     ]
    }
   ],
   "source": [
    "# b)-10, -5, 0, 5, 10, 15, 20\n",
    "# initialize loop counter\n",
    "counter = -10\n",
    "\n",
    "# loop structure\n",
    "while counter <= 20:\n",
    "\n",
    "    # inside loop body\n",
    "    if counter == 20:\n",
    "        print(counter, end=\"\")\n",
    "    else:\n",
    "        print(counter, end=\", \")\n",
    "\n",
    "    counter = counter + 5  # updating loop counter\n",
    "    # inside loop body\n",
    "\n",
    "# outside loop body"
   ]
  },
  {
   "cell_type": "code",
   "execution_count": 2,
   "metadata": {},
   "outputs": [
    {
     "name": "stdout",
     "output_type": "stream",
     "text": [
      "18, 27, 36, 45, 54, 63"
     ]
    }
   ],
   "source": [
    "# c)18, 27, 36, 45, 54, 63\n",
    "# initialize loop counter\n",
    "counter = 18\n",
    "\n",
    "# loop structure\n",
    "while counter <= 63:\n",
    "\n",
    "    # inside loop body\n",
    "    if counter == 63:\n",
    "        print(counter, end=\"\")\n",
    "    else:\n",
    "        print(counter, end=\", \")\n",
    "\n",
    "    counter = counter + 9  # updating loop counter\n",
    "    # inside loop body\n",
    "\n",
    "# outside loop body"
   ]
  },
  {
   "cell_type": "markdown",
   "metadata": {},
   "source": [
    "**Hints for 1(d):** \n",
    "\n",
    "print(5 * (-1)) gives output -5\\\n",
    "print(\"-\" + str(5)) gives output -5"
   ]
  },
  {
   "cell_type": "code",
   "execution_count": 4,
   "metadata": {},
   "outputs": [],
   "source": [
    "# d)18,-27, 36,-45,54,-63\n",
    "i= 18\n",
    "print(\"18\",end=\",\")\n",
    "count=2\n",
    "while count <=6:\n",
    "    if count%2==0:\n",
    "        i=i+9\n",
    "        i1=i*-1\n",
    "        print(i1, end=\",\")\n",
    "    else:\n",
    "        i=i+9\n",
    "        print(i, end=\",\")\n",
    "    count+=1"
   ]
  },
  {
   "cell_type": "markdown",
   "metadata": {},
   "source": [
    "====================================================================\\\n",
    "<font color='blue'>\n",
    "All the tasks can be solved using both the \"while loop\" and the \"for loop\". But you need to choose the best looping construct which is the most suitable for solving a particular task.\n",
    "</font>\n",
    "\n",
    "===================================================================="
   ]
  },
  {
   "cell_type": "markdown",
   "metadata": {},
   "source": [
    "### Task 2\n",
    "Write a Python code for the following:\n",
    "\n",
    "1)\tAsk the user to enter the name of his favorite car.\\\n",
    "2)\tAsk the user to enter a Number\n",
    "\n",
    "Display the name of the user’s favorite car, the number of times specified in the second step.\n",
    "\n",
    "**Example:** If the user enters “Toyota” and 20, your program should print the name “Toyota” twenty times.\n",
    "\n",
    "**Example:** If the user enters “Veyron” and 5, your program should print the name “Veyron” five times.\n",
    "\n",
    "**Input:**\\\n",
    "Veyron, 5\n",
    "\n",
    "**Output:**\\\n",
    "Veyron\\\n",
    "Veyron\\\n",
    "Veyron\\\n",
    "Veyron\\\n",
    "Veyron\n"
   ]
  },
  {
   "cell_type": "code",
   "execution_count": 1,
   "metadata": {
    "scrolled": true
   },
   "outputs": [
    {
     "name": "stdout",
     "output_type": "stream",
     "text": [
      "Enter your favourite car name: Veyron\n",
      "Enter a number: 5\n",
      "Veyron\n",
      "Veyron\n",
      "Veyron\n",
      "Veyron\n",
      "Veyron\n"
     ]
    }
   ],
   "source": [
    "#Todo\n",
    "name= input(\"Enter your favourite car name: \")\n",
    "a= int(input(\"Enter a number: \"))\n",
    "counter= 1\n",
    "while counter<=a :\n",
    "    print(name)\n",
    "    a-=1\n"
   ]
  },
  {
   "cell_type": "markdown",
   "metadata": {},
   "source": [
    "### Task 3\n",
    "Write a Python code of a program that adds all numbers that are multiples of **both 7 and 9** up to 600 (including 600).\n",
    "\n",
    "Output: 2835\n"
   ]
  },
  {
   "cell_type": "code",
   "execution_count": 3,
   "metadata": {},
   "outputs": [
    {
     "name": "stdout",
     "output_type": "stream",
     "text": [
      "63\n",
      "189\n",
      "378\n",
      "630\n",
      "945\n",
      "1323\n",
      "1764\n",
      "2268\n",
      "2835\n"
     ]
    }
   ],
   "source": [
    "#Todo\n",
    "sum=0\n",
    "counter= 1\n",
    "while counter<=600:\n",
    "    if counter%7==0 and counter%9==0 :\n",
    "        sum=sum+counter\n",
    "        print(sum)\n",
    "    counter= counter +1"
   ]
  },
  {
   "cell_type": "markdown",
   "metadata": {},
   "source": [
    "### Task 4\n",
    "Write a Python code of a program that adds all numbers that are multiples of **either 7 or 9** up to 600(including 600). \\\n",
    "Ensure that numbers like 63 are added only once in the sum.\n",
    "\n",
    "Output: 42649\n"
   ]
  },
  {
   "cell_type": "code",
   "execution_count": 3,
   "metadata": {},
   "outputs": [
    {
     "name": "stdout",
     "output_type": "stream",
     "text": [
      "42649\n"
     ]
    }
   ],
   "source": [
    "#Todo\n",
    "sum=0\n",
    "counter= 1\n",
    "while counter<=600:\n",
    "    if counter%7==0 or counter%9==0 :\n",
    "        sum=sum+counter\n",
    "    \n",
    "    counter= counter +1\n",
    "print(sum)"
   ]
  },
  {
   "cell_type": "markdown",
   "metadata": {},
   "source": [
    "### Task 5\n",
    "Write a Python code of a program that adds all numbers that are multiples of **either 7 or 9 but not both**, up to 600(including 600).\n",
    "\n",
    "Output: 39814\n"
   ]
  },
  {
   "cell_type": "code",
   "execution_count": 4,
   "metadata": {},
   "outputs": [
    {
     "name": "stdout",
     "output_type": "stream",
     "text": [
      "39814\n"
     ]
    }
   ],
   "source": [
    "#Todo\n",
    "sum=0\n",
    "counter= 1\n",
    "while counter<=600:\n",
    "    if counter %63!=0:\n",
    "        if counter%7==0 or counter%9==0 :\n",
    "            sum=sum+counter\n",
    "    counter= counter +1\n",
    "print(sum)"
   ]
  },
  {
   "cell_type": "markdown",
   "metadata": {},
   "source": [
    "### Task 6\n",
    "Write a Python code to displays all the **odd numbers** between 10 and 50.\n",
    "\n",
    "Output: 11 13 15 17 19 21 23 25 27 29 31 33 35 37 39 41 43 45 47 49\n"
   ]
  },
  {
   "cell_type": "code",
   "execution_count": 9,
   "metadata": {},
   "outputs": [],
   "source": [
    "#Todo\n",
    "for number in range(10,50):\n",
    "    if number%2!=0:\n",
    "        print(number,end=\" \")"
   ]
  },
  {
   "cell_type": "markdown",
   "metadata": {},
   "source": [
    "### Task 7\n",
    "Write a Python code that will calculate the **value of y if the expression** of y is as follows (n is the input):  \n",
    "\n",
    "$y = 1^2 - 2^2 +3^2 -4^2 +5^2 .........+ n^2 $\n",
    "\n",
    "**Example:** \n",
    "\n",
    "If the user enters 10, y= -55 \\\n",
    "If the user enters 20, y= -210\n"
   ]
  },
  {
   "cell_type": "code",
   "execution_count": 4,
   "metadata": {},
   "outputs": [
    {
     "name": "stdout",
     "output_type": "stream",
     "text": [
      "Enter the Number: 10\n",
      "y= -55\n"
     ]
    }
   ],
   "source": [
    "#Todo\n",
    "a=int(input(\"Enter the Number: \"))\n",
    "y=0\n",
    "i = 1\n",
    "while i <= a:\n",
    "    if i%2==1:\n",
    "        y+=(i*i)\n",
    "    else:\n",
    "        y-=(i*i)\n",
    "    i+=1\n",
    "print(\"y=\", y)"
   ]
  },
  {
   "cell_type": "markdown",
   "metadata": {},
   "source": [
    "### Task 8\n",
    "Write a Python code of a program that asks the user to enter ten numbers then display the total and the average of **ONLY** the **odd numbers** among those ten numbers.\n",
    "\n",
    "**Example(1):** \n",
    "\n",
    "Input: 1 2 3 4 5 6 7 8 9 10 \\\n",
    "Output: Total is 25 and Average is 5.0\\\n",
    "(i.e., Total is 25 = (1+3+5+7+9) and Average is 25/5 = 5.0)]\n",
    "\n",
    "\n",
    "**Example(2):** \n",
    "\n",
    "Input: -20  3  -5  40  -17  9  20  -8   99  -200 \\\n",
    "Output: Total is 89 and Average is 17.8 \\\n",
    "(i.e., Total is 89 =(3+(-5)+(-17)+9+99) and Average is 89/5 = 17.8)]\n",
    "\n",
    "\n"
   ]
  },
  {
   "cell_type": "code",
   "execution_count": 1,
   "metadata": {},
   "outputs": [
    {
     "name": "stdout",
     "output_type": "stream",
     "text": [
      "Enter Number: 1\n",
      "1\n",
      "Enter Number: 2\n",
      "Enter Number: 3\n",
      "3\n",
      "Enter Number: 4\n",
      "Enter Number: 5\n",
      "5\n",
      "Enter Number: 6\n",
      "Enter Number: 7\n",
      "7\n",
      "Enter Number: 8\n",
      "Enter Number: 9\n",
      "9\n",
      "Enter Number: 10\n",
      "The sum of odd number:  25\n",
      "The Average is:  5.0\n"
     ]
    }
   ],
   "source": [
    "#Todo\n",
    "counter=0\n",
    "sum=0\n",
    "n=int(input(\"Enter Number: \"))\n",
    "if n%2!=0:\n",
    "    print(n)\n",
    "    sum=sum+n\n",
    "    counter=counter+1\n",
    "n1=int(input(\"Enter Number: \"))\n",
    "if n1%2!=0:\n",
    "    print(n1)\n",
    "    sum= sum+n1\n",
    "    counter = counter + 1\n",
    "n2=int(input(\"Enter Number: \"))\n",
    "if n2%2!=0:\n",
    "    print(n2)\n",
    "    sum=sum+n2\n",
    "    counter = counter + 1\n",
    "n3=int(input(\"Enter Number: \"))\n",
    "if n3%2!=0:\n",
    "    print(n3)\n",
    "    sum=sum+n3\n",
    "    counter = counter + 1\n",
    "n4=int(input(\"Enter Number: \"))\n",
    "if n4%2!=0:\n",
    "    print(n4)\n",
    "    sum=sum+n4\n",
    "    counter = counter + 1\n",
    "n5=int(input(\"Enter Number: \"))\n",
    "if n5%2!=0:\n",
    "    print(n5)\n",
    "    sum=sum+n5\n",
    "    counter = counter + 1\n",
    "n6=int(input(\"Enter Number: \"))\n",
    "if n6%2!=0:\n",
    "    print(n6)\n",
    "    sum=sum+n6\n",
    "    counter = counter + 1\n",
    "n7=int(input(\"Enter Number: \"))\n",
    "if n7%2!=0:\n",
    "    print( n7)\n",
    "    sum=sum+n7\n",
    "    counter = counter + 1\n",
    "n8=int(input(\"Enter Number: \"))\n",
    "if n8%2!=0:\n",
    "    print(n8)\n",
    "    sum=sum+n8\n",
    "    counter = counter + 1\n",
    "n9=int(input(\"Enter Number: \"))\n",
    "if n9%2!=0:\n",
    "    print( n9)\n",
    "    sum=sum+n9\n",
    "    counter = counter + 1\n",
    "\n",
    "print(\"The sum of odd number: \", sum)\n",
    "Avg=sum/counter\n",
    "print(\"The Average is: \", Avg)\n"
   ]
  },
  {
   "cell_type": "markdown",
   "metadata": {},
   "source": [
    "### Task 9\n",
    "Write a Python code for the following:\n",
    "* Ask the user to enter a Number, N\n",
    "* Display the summation of multiples of 7 up to that number (**from 1 to N inclusive**)\n",
    "\n",
    "**Example(1):** If the user **enters 50**, your program should print 196. \\\n",
    "(Because: 7 + 14 + 21 + 28 + 35 + 42 + 49 = 196).\n",
    "\n",
    "**Example(2):** If the user **enters 75**, your program should print 385. \\\n",
    "(Because: 7 + 14 + 21 + 28 + 35 + 42 + 49 + 56 + 63 + 70 = 385).\n",
    "\n"
   ]
  },
  {
   "cell_type": "code",
   "execution_count": 1,
   "metadata": {},
   "outputs": [
    {
     "name": "stdout",
     "output_type": "stream",
     "text": [
      "enter the number50\n",
      "0\n",
      "7\n",
      "21\n",
      "42\n",
      "70\n",
      "105\n",
      "147\n",
      "196\n"
     ]
    }
   ],
   "source": [
    "#Todo\n",
    "n=int(input(\"enter the number\"))\n",
    "sum=0\n",
    "for i in range(0,n,7):\n",
    "    sum=sum+i\n",
    "    print(sum)"
   ]
  },
  {
   "cell_type": "markdown",
   "metadata": {},
   "source": [
    "### Task 10\n",
    "Write a Python code that will read 10 numbers from the user, and then print the first number, the sum of the first 2 numbers, the sum of the first 3 numbers, and so on up to the sum of 10 numbers.\n",
    "\n",
    "For example,\n",
    "\n",
    "The user enters 10, output 10, then \\\n",
    "The user enters 2, (10+2) = 12, output 12, then \\\n",
    "The user enters 4, (10+2+4) = 16, output 16, then \\\n",
    "The user enters 20, (10+2+4+20) = 36, output 36, and continuous till the 10$^{th}$ input\n"
   ]
  },
  {
   "cell_type": "code",
   "execution_count": null,
   "metadata": {},
   "outputs": [
    {
     "name": "stdout",
     "output_type": "stream",
     "text": [
      "enter the number10\n",
      "10\n",
      "enter the number2\n",
      "12\n",
      "enter the number4\n",
      "16\n"
     ]
    }
   ],
   "source": [
    "#Todo\n",
    "sum=0\n",
    "n=int(input(\"enter the number: \"))\n",
    "sum=sum+n\n",
    "print(sum)\n",
    "n1=int(input(\"enter the number: \"))\n",
    "sum=sum+n1\n",
    "print(sum)\n",
    "n2=int(input(\"enter the number: \"))\n",
    "sum=sum+n2\n",
    "print(sum)\n",
    "n3=int(input(\"enter the number: \"))\n",
    "sum=sum+n3\n",
    "print(sum)\n",
    "n4=int(input(\"enter the number: \"))\n",
    "sum=sum+n4\n",
    "print(sum)\n",
    "n5=int(input(\"enter the number: \"))\n",
    "sum=sum+n5\n",
    "print(sum)\n",
    "n6=int(input(\"enter the number: \"))\n",
    "sum=sum+n6\n",
    "print(sum)\n",
    "n7=int(input(\"enter the number: \"))\n",
    "sum=sum+n7\n",
    "print(sum)\n",
    "n8=int(input(\"enter the number: \"))\n",
    "sum=sum+n8\n",
    "print(sum)\n",
    "n9=int(input(\"enter the number: \"))\n",
    "sum=sum+n9\n",
    "print(sum)\n",
    "n10=int(input(\"enter the number: \"))\n",
    "sum=sum+n10\n",
    "print(sum)\n"
   ]
  },
  {
   "cell_type": "markdown",
   "metadata": {},
   "source": [
    "### Task 11\n",
    "Write a Python program which takes a number and prints the digits from the unit place, then the tenth, then hundredth, etc. <font color='red'>(Right to Left)</font>\n",
    "\n",
    "**Example:** If the user gives 32768, then print 8, 6, 7, 2, 3 \n",
    "\n",
    "**Hint:** First to get the digit from the right side, take the remainder of the number using modulus (%) operator and print the digit. For dropping the last digit, perform floor division by 10 on the number. Then start over.\n",
    "\n",
    "32,768 % 10 = 8 \n",
    "\n",
    "32,768 // 10 = 3, 276 \n",
    "\n",
    "3, 276 % 10 = 6\n",
    "\n",
    "3, 276 // 10 = 327 \n",
    "\n",
    "327 % 10 = 7 \n",
    "\n",
    "327 // 10 = 32 \n",
    "\n",
    "32 % 10 = 2 \n",
    "\n",
    "32 //10 = 3 \n",
    "\n",
    "3 % 10 = 3 \n",
    "\n",
    "3 // 10 = 0 \n",
    "\n",
    "Done! When the number becomes 0 your loop should end.\n"
   ]
  },
  {
   "cell_type": "code",
   "execution_count": 3,
   "metadata": {},
   "outputs": [
    {
     "name": "stdout",
     "output_type": "stream",
     "text": [
      "Enter the number: 32768\n",
      "8,  6,  7,  2,  3"
     ]
    }
   ],
   "source": [
    "#Todo\n",
    "n=int(input(\"Enter the number: \"))\n",
    "print(n%10,end='')\n",
    "n//=10\n",
    "\n",
    "while n > 0:\n",
    "    print(', ',n%10,end='')\n",
    "    n//=10"
   ]
  },
  {
   "cell_type": "markdown",
   "metadata": {},
   "source": [
    "### Task 12\n",
    "\n",
    "Write a Python program that takes a number and tells how many digits are in that number. \n",
    "\n",
    "**Example:** If the user gives 9876, you should print 4. \n",
    "\n",
    "\n",
    "\n",
    "**Hint:** Keep floor dividing by ten and count how many times this could be divided. \n",
    "\n",
    "9876 floor divide by 10, is 987, count that got 1 digit (total 1) \\\n",
    "987 floor divide by 10, is 98, count that got 1 digit (total 2) \\\n",
    "98 floor divide by 10, is 9, count that got 1 digit (total 3) \\\n",
    "9 floor divide by 10, is 0, count that got 1 digit (total 4) \n",
    "\n",
    "Done! (When the number becomes 0 your loop should end.)\n",
    "\n"
   ]
  },
  {
   "cell_type": "code",
   "execution_count": 4,
   "metadata": {},
   "outputs": [
    {
     "name": "stdout",
     "output_type": "stream",
     "text": [
      "Enter the number: 9876\n",
      "4\n"
     ]
    }
   ],
   "source": [
    "#Todo\n",
    "n=int(input(\"Enter the number: \"))\n",
    "count=0\n",
    "while n > 0:\n",
    "    count+=1\n",
    "    n//=10\n",
    "print(count)"
   ]
  },
  {
   "cell_type": "markdown",
   "metadata": {},
   "source": [
    "### Task 13\n",
    "Write a Python code of a program that takes a number and prints the value of 10 to the power that number. <font color='red'>You need to use a loop because math function power is not allowed in this task.</font> \n",
    "\n",
    "For example: if the user gives 3, print 1000. \n",
    "\n",
    "**Hint:** Keep multiplying 1 by 10, again and again. \\\n",
    "You need to write, \\\n",
    "$product = product x 10$\n",
    "\n",
    "$1 x 10 = 10 $ \\\n",
    "$10 x 10 = 100$ \\\n",
    "$100 x 10 = 1000$ \n"
   ]
  },
  {
   "cell_type": "code",
   "execution_count": 2,
   "metadata": {},
   "outputs": [
    {
     "name": "stdout",
     "output_type": "stream",
     "text": [
      "Enter the number: 0\n",
      "1\n"
     ]
    }
   ],
   "source": [
    "#Todo\n",
    "n=int(input(\"Enter the number: \"))\n",
    "n=10**n\n",
    "print(n)"
   ]
  },
  {
   "cell_type": "markdown",
   "metadata": {},
   "source": [
    "### Task 14\n",
    "\n",
    "Write a Python program that takes a number from the user and prints the divisors of that number and then print how many divisors were there.\n",
    "\n",
    "**Example1:** \n",
    "\n",
    "Input: 6 \\\n",
    "Output: \\\n",
    "1, 2, 3, 6 \\\n",
    "“Total 4 divisors”.\n",
    "\n",
    "\n",
    "**Example2:** \n",
    "\n",
    "Input: 121 \\\n",
    "Output: \\\n",
    "1, 11, 121\n",
    "\n",
    "“Total 3 divisors”.\n",
    "\n"
   ]
  },
  {
   "cell_type": "code",
   "execution_count": 6,
   "metadata": {},
   "outputs": [
    {
     "name": "stdout",
     "output_type": "stream",
     "text": [
      "Input: 6\n",
      "1, 2, 3, 6\n",
      "\"Total 4 divisors\".\n"
     ]
    }
   ],
   "source": [
    "#Todo\n",
    "n=int(input(\"Input: \"))\n",
    "\n",
    "\n",
    "print('1',end='')\n",
    "count=1\n",
    "\n",
    "i = 2\n",
    "while i<=n:\n",
    "    if n%i==0:\n",
    "        print(',',i,end='')\n",
    "        count+=1\n",
    "    i+=1\n",
    "\n",
    "print('\\n\"Total',count,'divisors\".')"
   ]
  },
  {
   "cell_type": "markdown",
   "metadata": {},
   "source": [
    "### Task 15\n",
    "Write a Python program that takes a number and tells if it is a perfect number or not.\n",
    "\n",
    "**Perfect Number:** An integer number is said to be a perfect number if its factors, including 1 but not the number itself, sum to the number.\n",
    "\n",
    "**Example1:**\n",
    "\n",
    "Input: 6 \\\n",
    "Output: “6 is a perfect number” \\\n",
    "Explanation: 6 have 4 divisors: 1, 2, 3, and 6. \\\n",
    "If we add all factors except itself, 6 = 1 + 2 + 3.\n",
    "\n",
    "**Example2:**\n",
    "\n",
    "Input: 28 \\\n",
    "Output: “28 is a perfect number” \\\n",
    "Explanation: 28 have 6 divisors: 1, 2, 4, 7, 14, and 28. \\\n",
    "If we add all factors except itself, 28 = 1 + 2 + 4 + 7 + 14.\n",
    "\n",
    "**Example3:**\n",
    "\n",
    "Input: 33 \\\n",
    "Output: “33 is not a perfect number” \\\n",
    "Explanation: 33 have 3 divisors: 1, 3, 11, and 33. \\\n",
    "If we add all factors except itself, 15 = 1 + 3 + 11."
   ]
  },
  {
   "cell_type": "code",
   "execution_count": 1,
   "metadata": {},
   "outputs": [
    {
     "name": "stdout",
     "output_type": "stream",
     "text": [
      "Enter the Number: 28\n",
      "28 is a perfect number\n"
     ]
    }
   ],
   "source": [
    "#Todo\n",
    "n=int(input(\"Enter the Number: \"))\n",
    "\n",
    "\n",
    "sum=0\n",
    "\n",
    "i = 1\n",
    "while i<n:\n",
    "    if n%i==0:\n",
    "        sum+=i\n",
    "    i+=1\n",
    "\n",
    "if sum==n:\n",
    "    print(n,'is a perfect number')\n",
    "else:\n",
    "    print(n,'is a not perfect number')"
   ]
  },
  {
   "cell_type": "markdown",
   "metadata": {},
   "source": [
    "### Task 16\n",
    "\n",
    "Write a Python program that asks the user for one number and tells if it is a prime number or not. \n",
    "\n",
    "**Prime Number:** If a number has only two divisors, (1 and itself), then it is prime. If it is divisible by more numbers, then it is not a prime.\n",
    "\n",
    "**Hint:** use the divisor count from task 16. \n",
    "\n",
    "**Example1:** \n",
    "\n",
    "Input: 11 \\\n",
    "Output: “11 is a prime number” \\\n",
    "Explanation: 11 has only 2 divisors: 1, and 11.\n",
    "\n",
    "**Example2:** \n",
    "\n",
    "Input: 6 \\\n",
    "Output: “6 is not a prime number” \\\n",
    "Explanation: 6 have 4 divisors: 1, 2, 3 and 6.\n",
    "\n",
    "\n"
   ]
  },
  {
   "cell_type": "code",
   "execution_count": 3,
   "metadata": {},
   "outputs": [
    {
     "name": "stdout",
     "output_type": "stream",
     "text": [
      "Enter the number: 11\n",
      "11 is a prime number\n"
     ]
    }
   ],
   "source": [
    "num =int(input(\"Enter the number: \"))\n",
    "\n",
    "if num > 1:\n",
    "    for i in range(2, num):\n",
    "        if (num % i) == 0:\n",
    "            print(num, \"is not a prime number\")\n",
    "            print(i, \"times\", num // i, \"is\", num)\n",
    "            break\n",
    "    else:\n",
    "        print(num, \"is a prime number\")\n",
    "\n",
    "\n",
    "else:\n",
    "    print(num, \"is not a prime number\")#Todo"
   ]
  },
  {
   "cell_type": "markdown",
   "metadata": {},
   "source": [
    "### Task 17\n",
    "\n",
    "Write a Python program that asks the user for a quantity then takes that many numbers and prints the maximum, minimum and average of those numbers. \n",
    "\n",
    "**Example:**\n",
    "If the user enters 5 as an input for quantity. Then enters 10, 4, -1, -100, and 1. \\\n",
    "Your program output should be: “Maximum 10”, “Minimum -100”, “Average is -17.2” \n",
    "\n",
    "[Average calculation: (10+4 + (-1) + (-100) + 1)/5 = -86/5=-17.2]\n"
   ]
  },
  {
   "cell_type": "code",
   "execution_count": 2,
   "metadata": {},
   "outputs": [
    {
     "name": "stdout",
     "output_type": "stream",
     "text": [
      "Enter the quantity: 5\n",
      "Enter Number: 10\n",
      "Enter the Number: 4\n",
      "Enter the Number: -1\n",
      "Enter the Number: -100\n",
      "Enter the Number: 1\n",
      "\"Maximum 10\", \"Minimum -100\", \"Average -17.2\"\n"
     ]
    }
   ],
   "source": [
    "#Todo\n",
    "n=int(input(\"Enter the quantity: \"))\n",
    "num=int(input(\"Enter Number: \"))\n",
    "min=num\n",
    "max=num\n",
    "sum=num\n",
    "i=2\n",
    "while i <= n :\n",
    "    num=int(input(\"Enter the Number: \"))\n",
    "    sum+=num\n",
    "    if num>max:\n",
    "        max=num\n",
    "    if num<min:\n",
    "        min=num\n",
    "    i+=1\n",
    " \n",
    " \n",
    "print('\"Maximum ',max,'\", \"Minimum ',min,'\", \"Average ',sum/n,'\"',sep='')"
   ]
  },
  {
   "cell_type": "markdown",
   "metadata": {},
   "source": [
    "## Optional Tasks (18 -21)"
   ]
  },
  {
   "cell_type": "markdown",
   "metadata": {},
   "source": [
    "### Task 18\n",
    "\n",
    "Take five numbers from the user and find the minimum and the average of **only the even** numbers entered by the user. [If the user enters odd numbers ignore them]\n",
    "\n",
    "Assume, the first input is always an even number.\n",
    "\n",
    "**Example1:** \n",
    "\n",
    "If the user enters 10, 4, -1, -100, and 1. \\\n",
    "Output: “Minimum -100”, “Average is 28.66667” \\\n",
    "[Average calculation: (10+4 + (-100))/3 = -86/3=-28.66667]\n",
    "\n",
    "**Example2:**\n",
    "\n",
    "If the user enters 2, 10, 1, 21, and 3. \\\n",
    "Output: Minimum 2”, “Average is 6.0” \\\n",
    "Average calculation: [(2+10)/2 = 12/2= 6]"
   ]
  },
  {
   "cell_type": "code",
   "execution_count": 21,
   "metadata": {},
   "outputs": [],
   "source": [
    "#Todo"
   ]
  },
  {
   "cell_type": "markdown",
   "metadata": {},
   "source": [
    "### Task 19\n",
    "\n",
    "Write a Python code for the following:\n",
    "* Ask the user to enter a number, N (Total number of inputs to be taken). Assume that the user will never enter the first number as zero.\n",
    "* Take N number of inputs\n",
    "* Prints out the product of all the numbers read\n",
    "\n",
    "For example, if the first input is 4, then the program has to read in four numbers from the user and print the product of these four numbers. \n",
    "\n",
    "**Example:**\\\n",
    "Input: 5 10 6 4 2 1 \\\n",
    "Output: 480\n",
    "\n",
    "Explanation:\n",
    "5 is the total number of inputs taken. Then, the calculation should be 10 X 6 X 4 X 2 X 1 = 480 \n",
    "\n",
    "\n"
   ]
  },
  {
   "cell_type": "code",
   "execution_count": 22,
   "metadata": {},
   "outputs": [],
   "source": [
    "#Todo"
   ]
  },
  {
   "cell_type": "markdown",
   "metadata": {},
   "source": [
    "### Task 20\n",
    "Ask the user for a range (a starting number and an ending number). \n",
    "**Count** how many numbers are prime numbers and how many numbers are perfect numbers between that range and **print** those numbers. \n",
    "\n",
    "For example, between 2 and 6, there are 3 prime numbers (2, 3, 5) and 1 perfect number (6). \n",
    "\n",
    "\n",
    "**Example:**\\\n",
    "Sample Input: 2 6 \n",
    "\n",
    "Sample Output:\n",
    "\n",
    "Between 2 and 6,\\\n",
    "Found 3 prime numbers \\\n",
    "Found 1 perfect number.\\\n",
    "Prime numbers: 2, 3, 5.\\\n",
    "Perfect numbers: 6.\n",
    "\n"
   ]
  },
  {
   "cell_type": "code",
   "execution_count": 23,
   "metadata": {},
   "outputs": [],
   "source": [
    "#Todo"
   ]
  },
  {
   "cell_type": "markdown",
   "metadata": {},
   "source": [
    "### Task 21\n",
    "Write a Python program that takes a number from the user and prints its digits from left to right. <font color='red'> (left to right) </font>\n",
    "\n",
    "**Example:** if the user gives 32768, then print 3, 2, 7, 6, 8 \n",
    "\n",
    "**Hint:**\n",
    "* You need to combine Task12 and Task13 for solving this problem.\n",
    "* Count how many digits are in the input number. <font color='red'>(While counting digits, do not modify the original number)</font> **[Task12]**\n",
    "* Calculate 10 to the power that number of digits minus 1. **[Task13]**\\\n",
    "(You can reuse the task11 or directly call math.pow(). While using math functions, you need to keep in mind that it returns everything in floating-point numbers.)\n",
    "\n",
    "Say, 32768 have 5 digits, so you calculate 10 to power 4 which is 10,000. \n",
    "Take the remainder of 32,768 by 10,000 and thus you get 2,768 \n",
    "Then  floor divide 32,768 by 10,000 and thus you get 3. \n",
    "Then floor divide 10,000 by 10 to get 1,000 \n",
    "\n",
    "Take the remainder of 2,768 by 1,000 and thus you get 768.\\\n",
    "Then floor divide 2,768 by 1,000 and thus you get 2.\\\n",
    "Then floor divide 10,00 by 10 to get 1,00 \n",
    "\n",
    "Keep going on until there are no more digits left (zero!). \n",
    "\n",
    "In short:\n",
    "\n",
    "Loop 1: First count digits; say 5 in this case for 32,768  \\\n",
    "Loop 2: Then calculate 10 to power 4 (5-1), which is 10,000. \\\n",
    "Loop 3: Then repeat following three steps \n",
    "\n",
    "32,768 % 10,000 = 2,768\n",
    "<br>\n",
    "32,768 // 10,000 = 3 \n",
    "<br>\n",
    "10,000//10 = 1,000 \n",
    "<br><br>\n",
    "\n",
    "2,768 % 1,000 = 768\n",
    "<br>\n",
    "2,768 //1,000 = 2 \n",
    "<br>\n",
    "1,000//10 = 100 \n",
    "<br><br>\n",
    "\n",
    "768 % 100 = 68 \n",
    "<br>\n",
    "768 // 100 = 7 \n",
    "<br>\n",
    "100//10 = 10 \n",
    "<br><br>\n",
    "\n",
    "68 % 10 = 8\n",
    "<br>\n",
    "68 //10 = 6 \n",
    "<br>\n",
    "10//10 = 1\n",
    "<br><br>\n",
    "\n",
    "8 % 1 = 0\n",
    "<br>\n",
    "8 //1 = 8 \n",
    "<br>\n",
    "1//10 = 0`\n",
    "\n",
    "\n",
    "Done! (When the digit count becomes 0, your loop should end.)\n",
    "\n"
   ]
  },
  {
   "cell_type": "code",
   "execution_count": 24,
   "metadata": {},
   "outputs": [],
   "source": [
    "#Todo"
   ]
  }
 ],
 "metadata": {
  "kernelspec": {
   "display_name": "Python 3",
   "language": "python",
   "name": "python3"
  },
  "language_info": {
   "codemirror_mode": {
    "name": "ipython",
    "version": 3
   },
   "file_extension": ".py",
   "mimetype": "text/x-python",
   "name": "python",
   "nbconvert_exporter": "python",
   "pygments_lexer": "ipython3",
   "version": "3.7.6"
  }
 },
 "nbformat": 4,
 "nbformat_minor": 2
}
