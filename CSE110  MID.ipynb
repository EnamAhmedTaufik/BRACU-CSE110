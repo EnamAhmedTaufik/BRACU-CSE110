{
 "cells": [
  {
   "cell_type": "markdown",
   "metadata": {
    "colab_type": "text",
    "id": "0ZcT5c9CjT8P"
   },
   "source": [
    "# SUMMER 2020\n",
    "\n",
    "# CSE110 MID\n",
    "**<font color='red'>[MUST MAINTAIN VARIABLE NAMING CONVENTIONS FOR ALL THE TASKS]</font>**\n",
    "\n",
    "**<font color='red'>[Writing comments(explanatory sentences) in any of the code is completely optional]</font>**"
   ]
  },
  {
   "cell_type": "markdown",
   "metadata": {
    "colab_type": "text",
    "id": "hQCnOmw6iWER"
   },
   "source": [
    "# Task 01\n",
    "Mrs. Flintstone has recently started following a healthy lifestyle. She buys all her vegetables and fruits from a local organic food seller who offers her a discount depending on the total bill amount. The price of one kg mango is **120 taka**, the price of one kg orange is **220 taka** and the price of 1 kg lychee is **400** taka. The table below shows the discount she will get on her total amount.\n",
    "\n",
    "\n",
    "\n",
    "\n",
    "\n",
    "\n",
    "|Total Amount (TK)|Discount (TK)|\n",
    "|------|------|\n",
    "|0 - 450|No Discount|\n",
    "|451 - 699|25|\n",
    "|700 - 849 |50|\n",
    "|850 - 1599|150|\n",
    "|>= 1600|250|\n",
    "\n",
    "Write a python program and take three inputs from the user. The first input will be the number of mangos in kgs, the second input will be the number of oranges in kgs and the last input will be the amount of lychee in kgs. Based on the price of each fruit, calculate the total amount that Mrs. Flintstone will have to pay.  \n",
    "\n",
    " ================================\n",
    "\n",
    "\n",
    "**Sample input(1):**\\\n",
    "2\\\n",
    "1\\\n",
    "2\n",
    "\n",
    "\n",
    "**Sample Output(1):**\\\n",
    "Previous total: 1260\\\n",
    "New total after discount: 1110\n",
    "\n",
    "\n",
    "*Explanation(1): 2 * 120 + 1 * 220 + 2 * 400 = 1260Tk was her bill without discount.  For 1260Tk, the discount amount is 150 Tk. So, her new bill with a discount is (1260-150)= 1110Tk*\n",
    "\n",
    "================================\n",
    "\n",
    "**Sample input 2:**\\\n",
    "0\\\n",
    "0\\\n",
    "1\n",
    "\n",
    "\n",
    "\n",
    "\n",
    "**Sample output 2:**\\\n",
    "Previous total: 400\\\n",
    "New total after discount: 400\n",
    "\n",
    "\n",
    "\n",
    "*Explanation(2):   0 * 120 + 0 * 220 + 1 * 400 = 400Tk was her bill without discount.  For 400Tk, the discount amount is 0Tk. So, her new bill with a discount is (400-0)= 400Tk.*\n",
    "\n",
    "\n",
    "\n"
   ]
  },
  {
   "cell_type": "code",
   "execution_count": null,
   "metadata": {
    "colab": {},
    "colab_type": "code",
    "id": "P0vIwmbeiWEU"
   },
   "outputs": [],
   "source": [
    "#task 1\n",
    "#to do\n",
    "num=int(input('Enter mango kg: '))\n",
    "num1=int(input('Enter orange kg: '))\n",
    "num2=int(input('Enter lychee kg: '))\n",
    "mango=num*120\n",
    "orange=num1*220\n",
    "lychee=num2*400\n",
    "sum=mango+orange+lychee\n",
    "print('Previous total: ',sum)\n",
    "if 0<sum<=450:\n",
    "    print(\"New total discount: \",sum)\n",
    "elif 451<=sum<=699:\n",
    "    discount=sum-25\n",
    "    print(\"New total discount: \",discount)\n",
    "elif 700<=sum<=849:\n",
    "    discount=sum-50\n",
    "    print(\"New total discount: \",discount)\n",
    "elif 850<=sum<=1599:\n",
    "    discount=sum-150\n",
    "    print(\"New total discount: \",discount)\n",
    "elif sum>=1600:\n",
    "    discount=sum-250\n",
    "    print(\"New total discount: \",discount)\n"
   ]
  },
  {
   "cell_type": "markdown",
   "metadata": {
    "colab_type": "text",
    "id": "zUyYKkWViWEd"
   },
   "source": [
    "# Task 02\n",
    "Write a python program that takes a number as input from the user and prints the summation of all the even digits.”  \n",
    "\n",
    "\n",
    "*hint: consider 0 as even number*\n",
    "\n",
    "\n",
    "\n",
    "\n",
    " \n",
    "  ================================\n",
    " \n",
    "**Sample input 1:**\\\n",
    "234567\\\n",
    "**Sample output 1:**\\\n",
    "12*\\\n",
    "Explanation: even digits of 234567 are 2,4,6. 2+4+6=12*\n",
    "\n",
    " \n",
    "  ================================\n",
    "\n",
    "**Sample input 2:**\\\n",
    "24499  \\\n",
    "**Sample output 2:**\\\n",
    "10\\\n",
    "*Explanation: even digits of 24499 are 2,4,4. 2+4+4=10*\n"
   ]
  },
  {
   "cell_type": "code",
   "execution_count": null,
   "metadata": {
    "colab": {},
    "colab_type": "code",
    "id": "_oEJ6XwgiWEh"
   },
   "outputs": [],
   "source": [
    "#task 2\n",
    "#to do\n",
    "num=input('Enter the number: ')\n",
    "sum=0\n",
    "for i in str(num):\n",
    "    if int(i)%2==0:\n",
    "        sum=sum+int(i)\n",
    "print(sum)\n",
    "\n"
   ]
  },
  {
   "cell_type": "markdown",
   "metadata": {
    "colab_type": "text",
    "id": "CEhXrQIhiWEo"
   },
   "source": [
    "# Task 03\n",
    "Write a program that takes a **string** as input and prints “Binary Number” if the string contains only 0s or 1s. Otherwise, print “Not a Binary Number”.\n",
    "\n",
    "**<font color='red'>( you have to use a loop)**\n",
    "\n",
    "*hints: consider 0 as even number*\n",
    "\n",
    "\n",
    "\n",
    "\n",
    " \n",
    "  ================================\n",
    " \n",
    "**Sample input 1:**\\\n",
    "01101101101\\\n",
    "**Sample output 1:**\\\n",
    "Binary Number\n",
    "\n",
    "  ================================\n",
    "\n",
    "**Sample input 2:**\\\n",
    "12344ab0 \\\n",
    "**Sample output 2:**\\\n",
    "Not a Binary Number"
   ]
  },
  {
   "cell_type": "code",
   "execution_count": 2,
   "metadata": {
    "colab": {},
    "colab_type": "code",
    "id": "gWQIR06LiWEp"
   },
   "outputs": [
    {
     "name": "stdout",
     "output_type": "stream",
     "text": [
      "Enter the number: 5464\n",
      "Not a Binary Number\n"
     ]
    }
   ],
   "source": [
    "#task 3\n",
    "#to do\n",
    "num=str(input('Enter the number: '))\n",
    "\n",
    "counter=0\n",
    "counter1=1\n",
    "for i in num:\n",
    "    if int(i)>1:\n",
    "        counter1+=1\n",
    "\n",
    "    else:\n",
    "        counter=counter+1\n",
    "        num1.append(i)\n",
    "if len(num)==counter:\n",
    "    print('Binary Number')\n",
    "else:\n",
    "    print('Not a Binary Number')"
   ]
  },
  {
   "cell_type": "code",
   "execution_count": null,
   "metadata": {},
   "outputs": [],
   "source": []
  },
  {
   "cell_type": "code",
   "execution_count": null,
   "metadata": {},
   "outputs": [],
   "source": []
  }
 ],
 "metadata": {
  "colab": {
   "collapsed_sections": [],
   "name": "set 10.ipynb",
   "provenance": []
  },
  "kernelspec": {
   "display_name": "Python 3",
   "language": "python",
   "name": "python3"
  },
  "language_info": {
   "codemirror_mode": {
    "name": "ipython",
    "version": 3
   },
   "file_extension": ".py",
   "mimetype": "text/x-python",
   "name": "python",
   "nbconvert_exporter": "python",
   "pygments_lexer": "ipython3",
   "version": "3.7.6"
  }
 },
 "nbformat": 4,
 "nbformat_minor": 1
}
